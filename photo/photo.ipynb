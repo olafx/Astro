{
 "cells": [
  {
   "cell_type": "code",
   "execution_count": 1,
   "metadata": {},
   "outputs": [],
   "source": [
    "from astropy.io import fits\n",
    "import numpy as np\n",
    "import matplotlib.pyplot as plt"
   ]
  },
  {
   "cell_type": "code",
   "execution_count": 2,
   "metadata": {},
   "outputs": [],
   "source": [
    "paths_science = ['data/science/FORS1.2006-08-03T04_45_33.914.fits',\n",
    "                 'data/science/FORS1.2006-08-03T04_49_20.636.fits',\n",
    "                 'data/science/FORS1.2006-08-03T04_52_39.077.fits']\n",
    "paths_bias    = ['data/bias/FORS1.2006-08-05T10:42:06.611.fits',\n",
    "                 'data/bias/FORS1.2006-08-05T10:42:53.806.fits',\n",
    "                 'data/bias/FORS1.2006-08-05T10:43:40.950.fits',\n",
    "                 'data/bias/FORS1.2006-08-05T10:44:28.196.fits',\n",
    "                 'data/bias/FORS1.2006-08-05T10:45:15.470.fits']\n",
    "paths_dark    = ['data/dark/FORS1.2006-07-31T14:39:04.789.fits',\n",
    "                 'data/dark/FORS1.2006-07-31T13:37:29.975.fits',\n",
    "                 'data/dark/FORS1.2006-07-31T14:08:17.382.fits']\n",
    "paths_flat    = ['data/flat (lamp)/FORS1.2006-08-04T11:21:10.142.fits',\n",
    "                 'data/flat (lamp)/FORS1.2006-08-04T11:22:03.657.fits',\n",
    "                 'data/flat (lamp)/FORS1.2006-08-04T11:23:04.383.fits',\n",
    "                 'data/flat (lamp)/FORS1.2006-08-04T11:23:58.680.fits']"
   ]
  },
  {
   "cell_type": "code",
   "execution_count": 3,
   "metadata": {},
   "outputs": [],
   "source": [
    "# VLT uses 4 detectors here per image, each of which must be separately corrected"
   ]
  },
  {
   "cell_type": "code",
   "execution_count": 4,
   "metadata": {},
   "outputs": [],
   "source": [
    "# science exposure time needed to correct for dark current during science imaging\n",
    "sciences = []\n",
    "sciences_exptimes = []\n",
    "for path in paths_science:\n",
    "    fp = fits.open(path)\n",
    "    array_2x2 = np.array(fp[0].data)\n",
    "    shape = array_2x2.shape\n",
    "    mid_x, far_x, mid_y, far_y = int(shape[0]/2-1), int(shape[0]-1), int(shape[1]/2-1), int(shape[0]-1)\n",
    "    sciences.append([array_2x2[np.ix_(np.arange(mid_x+1,far_x+1),np.arange(mid_y+1,far_y+1))],\n",
    "                     array_2x2[np.ix_(np.arange(mid_x+1,far_x+1),np.arange(mid_y+1))],\n",
    "                     array_2x2[np.ix_(np.arange(mid_x+1),np.arange(mid_y+1))],\n",
    "                     array_2x2[np.ix_(np.arange(mid_x+1),np.arange(mid_y+1,far_y+1))]])\n",
    "    sciences_exptimes.append(fp[0].header['EXPTIME'])\n",
    "    fp.close()"
   ]
  },
  {
   "cell_type": "code",
   "execution_count": 5,
   "metadata": {},
   "outputs": [],
   "source": [
    "biases = []\n",
    "for path in paths_bias:\n",
    "    fp = fits.open(path)\n",
    "    array_2x2 = np.array(fp[0].data)\n",
    "    shape = array_2x2.shape\n",
    "    mid_x, far_x, mid_y, far_y = int(shape[0]/2-1), int(shape[0]-1), int(shape[1]/2-1), int(shape[0]-1)\n",
    "    biases.append([array_2x2[np.ix_(np.arange(mid_x+1,far_x+1),np.arange(mid_y+1,far_y+1))],\n",
    "                     array_2x2[np.ix_(np.arange(mid_x+1,far_x+1),np.arange(mid_y+1))],\n",
    "                     array_2x2[np.ix_(np.arange(mid_x+1),np.arange(mid_y+1))],\n",
    "                     array_2x2[np.ix_(np.arange(mid_x+1),np.arange(mid_y+1,far_y+1))]])\n",
    "    fp.close()"
   ]
  },
  {
   "cell_type": "code",
   "execution_count": 6,
   "metadata": {},
   "outputs": [],
   "source": [
    "# dark exposure time needed to evaluate dark current\n",
    "darks = []\n",
    "darks_exptimes = []\n",
    "for path in paths_dark:\n",
    "    fp = fits.open(path)\n",
    "    array_2x2 = np.array(fp[0].data)\n",
    "    shape = array_2x2.shape\n",
    "    mid_x, far_x, mid_y, far_y = int(shape[0]/2-1), int(shape[0]-1), int(shape[1]/2-1), int(shape[0]-1)\n",
    "    darks.append([array_2x2[np.ix_(np.arange(mid_x+1,far_x+1),np.arange(mid_y+1,far_y+1))],\n",
    "                  array_2x2[np.ix_(np.arange(mid_x+1,far_x+1),np.arange(mid_y+1))],\n",
    "                  array_2x2[np.ix_(np.arange(mid_x+1),np.arange(mid_y+1))],\n",
    "                  array_2x2[np.ix_(np.arange(mid_x+1),np.arange(mid_y+1,far_y+1))]])\n",
    "    darks_exptimes.append(fp[0].header['EXPTIME'])\n",
    "    fp.close()"
   ]
  },
  {
   "cell_type": "code",
   "execution_count": 7,
   "metadata": {},
   "outputs": [],
   "source": [
    "# flat exposure time needed to correct for dark current during flat imaging\n",
    "flats = []\n",
    "flats_exptimes = []\n",
    "for path in paths_flat:\n",
    "    fp = fits.open(path)\n",
    "    array_2x2 = np.array(fp[0].data)\n",
    "    shape = array_2x2.shape\n",
    "    mid_x, far_x, mid_y, far_y = int(shape[0]/2-1), int(shape[0]-1), int(shape[1]/2-1), int(shape[0]-1)\n",
    "    flats.append([array_2x2[np.ix_(np.arange(mid_x+1,far_x+1),np.arange(mid_y+1,far_y+1))],\n",
    "                  array_2x2[np.ix_(np.arange(mid_x+1,far_x+1),np.arange(mid_y+1))],\n",
    "                  array_2x2[np.ix_(np.arange(mid_x+1),np.arange(mid_y+1))],\n",
    "                  array_2x2[np.ix_(np.arange(mid_x+1),np.arange(mid_y+1,far_y+1))]])\n",
    "    flats_exptimes.append(fp[0].header['EXPTIME'])\n",
    "    fp.close()"
   ]
  },
  {
   "cell_type": "code",
   "execution_count": 8,
   "metadata": {},
   "outputs": [
    {
     "name": "stdout",
     "output_type": "stream",
     "text": [
      "mean bias (#e^-)\t[237.12725326 227.34112774 235.52065956 238.1563525 ]\n",
      "mean readout noise (#e^-)\t[6.72273506 6.60581621 5.49169245 5.32645306]\n"
     ]
    }
   ],
   "source": [
    "master_bias = []\n",
    "bias = np.zeros(4)\n",
    "readout_noise = np.zeros(4)\n",
    "for quadrant in biases[0]:\n",
    "    master_bias.append(np.zeros(quadrant.shape))\n",
    "for b in range(0, len(biases)): # bias indexes\n",
    "    for q in range(0, 4):       # quadrant indexes\n",
    "        master_bias[q] += biases[b][q] / len(biases)\n",
    "        bias[q] += np.mean(biases[b][q]) / len(biases)\n",
    "        readout_noise[q] += np.std(biases[b][q]) / len(biases)\n",
    "\n",
    "print(f'mean bias (#e^-)\\t{bias}')\n",
    "print(f'mean readout noise (#e^-)\\t{readout_noise}')"
   ]
  },
  {
   "cell_type": "code",
   "execution_count": 9,
   "metadata": {},
   "outputs": [
    {
     "name": "stdout",
     "output_type": "stream",
     "text": [
      "dark current (#e^-/hr)\t[15.92936079 17.87368875 18.80119141 13.97743585]\n"
     ]
    }
   ],
   "source": [
    "master_dark = []\n",
    "dark = np.zeros(4)\n",
    "for quadrant in darks[0]:\n",
    "    master_dark.append(np.zeros(quadrant.shape))\n",
    "for d in range(0, len(darks)): # darks index\n",
    "    for q in range(0, 4):      # quadrant indexes\n",
    "        master_dark[q] += (darks[d][q]-master_bias[q]) / darks_exptimes[d] / len(darks)\n",
    "        dark[q] += np.mean(darks[d][q]-master_bias[q]) / darks_exptimes[d] / len(darks)\n",
    "\n",
    "print(f'dark current (#e^-/hr)\\t{dark*3600}')"
   ]
  },
  {
   "cell_type": "code",
   "execution_count": 10,
   "metadata": {},
   "outputs": [],
   "source": [
    "master_flat = []\n",
    "for quadrant in flats[0]:\n",
    "    master_flat.append(np.zeros(quadrant.shape))\n",
    "for f in range(0, len(flats)): # flats index\n",
    "    for q in range(0, 4):      # quadrant indexes\n",
    "        master_flat[q] += flats[f][q]"
   ]
  },
  {
   "cell_type": "code",
   "execution_count": 11,
   "metadata": {},
   "outputs": [],
   "source": [
    "# true image = (science - master bias - master dark * science exposure time) /\n",
    "#    normalized(master flat - master bias - master dark * flat exposure time)\n",
    "image = []\n",
    "for quadrant in sciences[0]:\n",
    "    image.append(np.empty(quadrant.shape))\n",
    "for q in range(0, 4):\n",
    "    image[q] = ((sciences[0][q]-master_bias[q]-master_dark[q]*sciences_exptimes[0])\n",
    "             /  (master_flat[q]-master_bias[q]-master_dark[q]*flats_exptimes[0])\n",
    "             *  np.max(master_flat[q]-master_bias[q]-master_dark[q]*flats_exptimes[0]))"
   ]
  },
  {
   "cell_type": "code",
   "execution_count": 12,
   "metadata": {},
   "outputs": [
    {
     "data": {
      "image/png": "[encoded data removed]",
      "text/plain": [
       "<Figure size 432x432 with 2 Axes>"
      ]
     },
     "metadata": {
      "needs_background": "light"
     },
     "output_type": "display_data"
    }
   ],
   "source": [
    "fig = plt.figure(figsize=(6, 6))\n",
    "ax = fig.add_subplot(111)\n",
    "plt.imshow(image[1])\n",
    "plt.xlim(885, 920)\n",
    "plt.ylim(145, 185)\n",
    "plt.title('QSO J2240+0321 (R-band)')\n",
    "plt.xlabel('x')\n",
    "plt.ylabel('y')\n",
    "plt.tick_params(axis='both', labelbottom=False, labelleft=False)\n",
    "cbar = plt.colorbar()\n",
    "cbar.set_label('intesity (ADU)')\n",
    "plt.show()"
   ]
  }
 ],
 "metadata": {
  "interpreter": {
   "hash": "aa247adc73ea4341ed6d66875608f7a436e493965c200b5a9b4ee53c2d987394"
  },
  "kernelspec": {
   "display_name": "Python 3.8.11 64-bit ('main': venv)",
   "name": "python3"
  },
  "language_info": {
   "codemirror_mode": {
    "name": "ipython",
    "version": 3
   },
   "file_extension": ".py",
   "mimetype": "text/x-python",
   "name": "python",
   "nbconvert_exporter": "python",
   "pygments_lexer": "ipython3",
   "version": "3.9.7"
  },
  "orig_nbformat": 4
 },
 "nbformat": 4,
 "nbformat_minor": 2
}
